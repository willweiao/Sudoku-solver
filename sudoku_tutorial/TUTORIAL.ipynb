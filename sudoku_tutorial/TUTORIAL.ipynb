{
 "cells": [
  {
   "cell_type": "markdown",
   "id": "d1494616",
   "metadata": {},
   "source": [
    "# **Introductionary SUDOKU Tutorial**"
   ]
  },
  {
   "cell_type": "markdown",
   "id": "b89da482",
   "metadata": {},
   "source": [
    "## **1. Introduction to Sudoku and Basic Rules**"
   ]
  },
  {
   "cell_type": "markdown",
   "id": "89c32368",
   "metadata": {},
   "source": [
    "### **1.1 What is Sudoku?**"
   ]
  },
  {
   "cell_type": "markdown",
   "id": "850d29c3",
   "metadata": {},
   "source": [
    "Sudoku is a classic logic-based number-placement puzzle.\n",
    "The goal is to fill a 9×9 grid with digits from 1 to 9, so that every row, column, and 3×3 box contains each digit exactly once.\n",
    "\n",
    "Although numbers are used, Sudoku is not a math game — it is a game of logical reasoning and deduction.\n",
    "Originally popularized in Japan, Sudoku has now become one of the most well-known puzzles worldwide."
   ]
  },
  {
   "cell_type": "markdown",
   "id": "33e8b15b",
   "metadata": {},
   "source": [
    "### **1.2 Basic Rules of Sudoku**"
   ]
  },
  {
   "cell_type": "markdown",
   "id": "09621edc",
   "metadata": {},
   "source": [
    "#### 1.2.1 Row Rule:"
   ]
  },
  {
   "cell_type": "markdown",
   "id": "a926858e",
   "metadata": {},
   "source": [
    "Each of the 9 rows must contain all digits from 1 to 9 without repetition."
   ]
  },
  {
   "cell_type": "markdown",
   "id": "2184d956",
   "metadata": {},
   "source": [
    "#### 1.2.2 Column Rule:"
   ]
  },
  {
   "cell_type": "markdown",
   "id": "d0535e2e",
   "metadata": {},
   "source": [
    "Each of the 9 columns must contain all digits from 1 to 9 without repetition."
   ]
  },
  {
   "cell_type": "markdown",
   "id": "e677fc6f",
   "metadata": {},
   "source": [
    "#### 1.2.3 Box Rule:"
   ]
  },
  {
   "cell_type": "markdown",
   "id": "3d292030",
   "metadata": {},
   "source": [
    "Each of the nine 3×3 subgrids (also called boxes, blocks, or regions) must contain all digits from 1 to 9 exactly once."
   ]
  },
  {
   "cell_type": "markdown",
   "id": "0195b2d9",
   "metadata": {},
   "source": [
    "#### 1.2.4 Given Clues:"
   ]
  },
  {
   "cell_type": "markdown",
   "id": "aa1b4d7c",
   "metadata": {},
   "source": [
    "A Sudoku puzzle starts with some cells already filled with numbers. These are called clues.\n",
    "The difficulty of the puzzle depends on the number and the placement of these clues."
   ]
  },
  {
   "cell_type": "markdown",
   "id": "7cf4be82",
   "metadata": {},
   "source": [
    "#### 1.2.5 No Guessing Needed:"
   ]
  },
  {
   "cell_type": "markdown",
   "id": "1e794b94",
   "metadata": {},
   "source": [
    "A well-designed Sudoku puzzle always has exactly one unique solution, and it can be solved logically without guessing. But guessing sometimes makes a great difference when we've got no clues, especially by combining it with advanced skills like coloring and chain"
   ]
  },
  {
   "cell_type": "markdown",
   "id": "1c08bc1d",
   "metadata": {},
   "source": [
    "<p align=\"center\">\n",
    "  <img src=\"tutorial_assets/pics/rule_1.png\" width=\"300\"/>\n",
    "  <img src=\"tutorial_assets/pics/rule_2.png\" width=\"300\"/>\n",
    "</p>"
   ]
  },
  {
   "cell_type": "markdown",
   "id": "61fc0720",
   "metadata": {},
   "source": [
    "<br>\n",
    "\n",
    "<br>"
   ]
  },
  {
   "cell_type": "markdown",
   "id": "7e01b1b3",
   "metadata": {},
   "source": [
    "## **2. Overview of Common Sudoku Solving Methods**"
   ]
  },
  {
   "cell_type": "markdown",
   "id": "574e50e5",
   "metadata": {},
   "source": [
    "Sudoku is a popular logic-based puzzle that challenges players to fill a 9x9 grid so that each row, column, and 3x3 box contains the digits from 1 to 9 exactly once. There are various ways to solve Sudoku puzzles, each with its own advantages depending on the puzzle's difficulty and the intended application. Below, we briefly introduce three main solving methods: Backtracking, Rule-based Logical Solving, and Integer Linear Programming (ILP)."
   ]
  },
  {
   "cell_type": "markdown",
   "id": "6d196d5d",
   "metadata": {},
   "source": [
    "BY giving the following sudoku table shows our solver's efficiency:"
   ]
  },
  {
   "cell_type": "code",
   "execution_count": 2,
   "id": "6dae7a28",
   "metadata": {},
   "outputs": [],
   "source": [
    "# print the result as form of sudoko\n",
    "def print_sudoku(board):\n",
    "    \"\"\"Prints the Sudoku board in a readable format.\"\"\"\n",
    "    for row in board:\n",
    "        print(\" \".join(str(num) if num is not None else \".\" for num in row))"
   ]
  },
  {
   "cell_type": "code",
   "execution_count": 3,
   "id": "f84ee8a1",
   "metadata": {},
   "outputs": [
    {
     "name": "stdout",
     "output_type": "stream",
     "text": [
      ". 2 . 6 . 8 . . .\n",
      "5 8 . . . 9 7 . .\n",
      ". . . . 4 . . . .\n",
      "3 7 . . . . 5 . .\n",
      "6 . . . . . . . 4\n",
      ". . 8 . . . . 1 3\n",
      ". . . . 2 . . . .\n",
      ". . 9 8 . . . 3 6\n",
      ". . . 3 . 6 . 9 .\n"
     ]
    }
   ],
   "source": [
    "# Example Sudoku board (medium difficulty)\n",
    "sudoku_board = [\n",
    "    [None, 2, None, 6, None, 8, None, None, None],\n",
    "    [5, 8, None, None, None, 9, 7, None, None],\n",
    "    [None, None, None, None, 4, None, None, None, None],\n",
    "    [3, 7, None, None, None, None, 5, None, None],\n",
    "    [6, None, None, None, None, None, None, None, 4],\n",
    "    [None, None, 8, None, None, None, None, 1, 3],\n",
    "    [None, None, None, None, 2, None, None, None, None],\n",
    "    [None, None, 9, 8, None, None, None, 3, 6],\n",
    "    [None, None, None, 3, None, 6, None, 9, None],\n",
    "]\n",
    "print_sudoku(sudoku_board)"
   ]
  },
  {
   "cell_type": "markdown",
   "id": "cdd9ac12",
   "metadata": {},
   "source": [
    "### **2.1 Backtracking**"
   ]
  },
  {
   "cell_type": "markdown",
   "id": "3a044dd6",
   "metadata": {},
   "source": [
    "Backtracking is a straightforward and classical method for solving Sudoku. It is based on trying out numbers in empty cells and backtracking when a conflict is detected. The basic steps are:\n",
    "\n",
    "1. Find an empty cell.\n",
    "\n",
    "2. Try placing numbers 1 through 9 in the cell.\n",
    "\n",
    "3. If a number does not violate Sudoku rules, move to the next empty cell recursively.\n",
    "\n",
    "4. If no number is valid, backtrack to the previous cell and try a different number.\n",
    "\n",
    "While simple and guaranteed to find a solution if one exists, backtracking can be very slow for complex puzzles because it explores many possibilities without intelligent guidance."
   ]
  },
  {
   "cell_type": "markdown",
   "id": "789f7191",
   "metadata": {},
   "source": [
    "This backtracking method has been compile in file [sudoku_backtrack](solve_sudoku_backtrack.py). You can try this simple example below and see its result."
   ]
  },
  {
   "cell_type": "code",
   "execution_count": 12,
   "id": "e5384cad",
   "metadata": {},
   "outputs": [
    {
     "name": "stdout",
     "output_type": "stream",
     "text": [
      "\n",
      "Solved Sudoku:\n",
      "1 2 3 6 7 8 9 4 5\n",
      "5 8 4 2 3 9 7 6 1\n",
      "9 6 7 1 4 5 3 2 8\n",
      "3 7 2 4 6 1 5 8 9\n",
      "6 9 1 5 8 3 2 7 4\n",
      "4 5 8 7 9 2 6 1 3\n",
      "8 3 6 9 2 4 1 5 7\n",
      "2 1 9 8 5 7 4 3 6\n",
      "7 4 5 3 1 6 8 9 2\n"
     ]
    }
   ],
   "source": [
    "import pandas as pd\n",
    "from solve_sudoku_backtrack import solve_sudoku\n",
    "\n",
    "\n",
    "if solve_sudoku(sudoku_board):\n",
    "    print(\"\\nSolved Sudoku:\")\n",
    "    print_sudoku(sudoku_board)\n",
    "else:\n",
    "    print(\"No solution exists.\")"
   ]
  },
  {
   "cell_type": "markdown",
   "id": "47238352",
   "metadata": {},
   "source": [
    "### **2.2 Integer Linear Programming (ILP)**"
   ]
  },
  {
   "cell_type": "markdown",
   "id": "ab1cf869",
   "metadata": {},
   "source": [
    "Integer Linear Programming is a mathematical optimization technique that can also be applied to Sudoku. In this approach, we:\n",
    "\n",
    "Define binary variables x[i][j][k], where x[i][j][k] = 1 if the cell at row i and column j contains the number k+1.\n",
    "\n",
    "Set up constraints:\n",
    "\n",
    "1. Each cell must contain exactly one number.\n",
    "\n",
    "2. Each number must appear exactly once in each row, column, and 3x3 box.\n",
    "\n",
    "3. Pre-filled cells must match their given values.\n",
    "\n",
    "Solve the resulting ILP problem using a solver like PuLP. ( I used this here, can also use other solvers like Gurobi, and the solving process should be analogous)\n",
    "\n",
    "ILP provides a very systematic and formal way to solve Sudoku puzzles and can be particularly useful for generating, solving, and analyzing puzzles programmatically.\n",
    "\n"
   ]
  },
  {
   "cell_type": "markdown",
   "id": "7113caaf",
   "metadata": {},
   "source": [
    "This Integer Linear Programming can be written as follows. And also the code is compiled in [sudoku_ilp](solve_sudoku_ilp.py). Later I will show an example solved by this method. Readers can check the result."
   ]
  },
  {
   "cell_type": "markdown",
   "id": "096438b5",
   "metadata": {
    "vscode": {
     "languageId": "latex"
    }
   },
   "source": [
    "\n",
    "\\begin{aligned}\n",
    "\\text{Find:} \\quad & x_{i,j,k} \\in \\{0,1\\} \\quad \\forall \\; i,j,k \\in \\{1,\\dots,9\\} \\\\\n",
    "\\text{Subject to:} \\quad & \\sum_{k=1}^{9} x_{i,j,k} = 1 \\quad \\forall i,j \\\\\n",
    "& \\sum_{j=1}^{9} x_{i,j,k} = 1 \\quad \\forall i,k \\\\\n",
    "& \\sum_{i=1}^{9} x_{i,j,k} = 1 \\quad \\forall j,k \\\\\n",
    "& \\sum_{i'=0}^{2} \\sum_{j'=0}^{2} x_{3a+i',3b+j',k} = 1 \\quad \\forall a,b,k \\\\\n",
    "& x_{i,j,k} = 1 \\quad \\text{for pre-filled cells}\n",
    "\\end{aligned}"
   ]
  },
  {
   "cell_type": "code",
   "execution_count": null,
   "id": "3a76f41a",
   "metadata": {},
   "outputs": [
    {
     "name": "stdout",
     "output_type": "stream",
     "text": [
      ". 2 . 6 . 8 . . .\n",
      "5 8 . . . 9 7 . .\n",
      ". . . . 4 . . . .\n",
      "3 7 . . . . 5 . .\n",
      "6 . . . . . . . 4\n",
      ". . 8 . . . . 1 3\n",
      ". . . . 2 . . . .\n",
      ". . 9 8 . . . 3 6\n",
      ". . . 3 . 6 . 9 .\n"
     ]
    }
   ],
   "source": [
    "# refresh the sudoku table\n",
    "sudoku_board = [\n",
    "    [None, 2, None, 6, None, 8, None, None, None],\n",
    "    [5, 8, None, None, None, 9, 7, None, None],\n",
    "    [None, None, None, None, 4, None, None, None, None],\n",
    "    [3, 7, None, None, None, None, 5, None, None],\n",
    "    [6, None, None, None, None, None, None, None, 4],\n",
    "    [None, None, 8, None, None, None, None, 1, 3],\n",
    "    [None, None, None, None, 2, None, None, None, None],\n",
    "    [None, None, 9, 8, None, None, None, 3, 6],\n",
    "    [None, None, None, 3, None, 6, None, 9, None],\n",
    "]\n",
    "print_sudoku(sudoku_board)"
   ]
  },
  {
   "cell_type": "code",
   "execution_count": 17,
   "id": "56b016f8",
   "metadata": {},
   "outputs": [
    {
     "name": "stdout",
     "output_type": "stream",
     "text": [
      "1 2 3 6 7 8 9 4 5\n",
      "5 8 4 2 3 9 7 6 1\n",
      "9 6 7 1 4 5 3 2 8\n",
      "3 7 2 4 6 1 5 8 9\n",
      "6 9 1 5 8 3 2 7 4\n",
      "4 5 8 7 9 2 6 1 3\n",
      "8 3 6 9 2 4 1 5 7\n",
      "2 1 9 8 5 7 4 3 6\n",
      "7 4 5 3 1 6 8 9 2\n"
     ]
    }
   ],
   "source": [
    "from solve_sudoku_ilp import solve_sudoku_ilp\n",
    "\n",
    "solved_sudoku = solve_sudoku_ilp(sudoku_board)\n",
    "\n",
    "print_sudoku(solved_sudoku)"
   ]
  },
  {
   "cell_type": "markdown",
   "id": "706cda77",
   "metadata": {},
   "source": [
    "### **2.3 Rule-based Logical Solving (Logical)**"
   ]
  },
  {
   "cell_type": "markdown",
   "id": "abde4513",
   "metadata": {},
   "source": [
    "Rule-based solving relies on human-like logical deduction rather than blind guessing. Solvers apply a series of logic techniques to eliminate possibilities and deduce the correct number for each cell. Common techniques include:\n",
    "\n",
    "1. Sole Candidate: A cell can only hold one possible number.\n",
    "\n",
    "2. Unique Candidate: A number can only fit in one cell within a row, column, or box.\n",
    "\n",
    "3. Naked Pairs/Triples: When two (or three) cells in a region share the same two (or three) candidates, other cells can eliminate these candidates.\n",
    "\n",
    "4. Hidden Pairs/Triples: When two (or three) numbers are confined to only two (or three) cells, even if those cells have extra candidates.\n",
    "\n",
    "This method is efficient for typical human-level puzzles and is the basis for most \"smart\" Sudoku solvers or assistive software, which I would discuss more in the next chapter, **also it's the main idea behind my project**."
   ]
  },
  {
   "cell_type": "markdown",
   "id": "ab73f5b5",
   "metadata": {},
   "source": [
    "#### Each of these methods has its place: backtracking is simple but slow, rule-based solving mimics human reasoning and is efficient for everyday puzzles, and ILP provides a powerful mathematical framework for advanced applications.\n",
    "\n",
    "<br>\n",
    "\n",
    "<br>\n"
   ]
  },
  {
   "cell_type": "markdown",
   "id": "2a93578b",
   "metadata": {},
   "source": [
    "## **3. Overview of Common Logical Techniques in Sudoku Solving**"
   ]
  },
  {
   "cell_type": "markdown",
   "id": "3d47dfb9",
   "metadata": {},
   "source": [
    "While backtracking can solve any Sudoku puzzle through brute-force search, and ILP approaches can mathematically guarantee solutions, **most human solvers (and intelligent solvers) rely on logical reasoning techniques**. These methods focus on systematically eliminating impossible candidates and deducing correct values based on the structure of the puzzle.\n",
    "\n",
    "Below we introduce several core logical techniques, with a brief definition, a small example, and an idea of how they are implemented programmatically."
   ]
  },
  {
   "cell_type": "markdown",
   "id": "26fce119",
   "metadata": {},
   "source": [
    "### **3.1 Naked Single**"
   ]
  },
  {
   "cell_type": "markdown",
   "id": "c693a271",
   "metadata": {},
   "source": [
    "**Definition**: When a cell has only one possible candidate number."
   ]
  },
  {
   "cell_type": "markdown",
   "id": "0873fa15",
   "metadata": {},
   "source": [
    "**Pseudocode**："
   ]
  },
  {
   "cell_type": "code",
   "execution_count": null,
   "id": "f8beefd5",
   "metadata": {
    "vscode": {
     "languageId": "sql"
    }
   },
   "outputs": [],
   "source": [
    "For each empty cell:\n",
    "    Determine the list of possible candidates\n",
    "    If there is exactly one candidate:\n",
    "        Fill the cell with that candidate\n",
    "        Record a Naked Single hint"
   ]
  },
  {
   "cell_type": "markdown",
   "id": "b793c03d",
   "metadata": {},
   "source": [
    "### **3.2 Hidden Single**"
   ]
  },
  {
   "cell_type": "markdown",
   "id": "c8b0a2f0",
   "metadata": {},
   "source": [
    "**Definition**: When a number can only appear in one cell within a row, column, or box, even if that cell has other candidates."
   ]
  },
  {
   "cell_type": "markdown",
   "id": "f1d82493",
   "metadata": {},
   "source": [
    "**Pseudocode**："
   ]
  },
  {
   "cell_type": "code",
   "execution_count": null,
   "id": "6023444d",
   "metadata": {
    "vscode": {
     "languageId": "sql"
    }
   },
   "outputs": [],
   "source": [
    "For each number from 1 to 9:\n",
    "    For each row, column, and box:\n",
    "        Find all cells that can contain the number\n",
    "        If there is exactly one such cell:\n",
    "            Place the number in that cell\n",
    "            Record a Hidden Single hint"
   ]
  },
  {
   "cell_type": "markdown",
   "id": "cd065767",
   "metadata": {},
   "source": [
    "### **3.3 Naked Subset (Pair, Triple, Quad)**"
   ]
  },
  {
   "cell_type": "markdown",
   "id": "9c7b1a00",
   "metadata": {},
   "source": [
    "**Definition**: If two (or more) cells share exactly two (or more) candidates, these candidates must occupy those cells."
   ]
  },
  {
   "cell_type": "markdown",
   "id": "194ecadc",
   "metadata": {},
   "source": [
    "**Pseudocode**："
   ]
  },
  {
   "cell_type": "code",
   "execution_count": null,
   "id": "9aca7717",
   "metadata": {
    "vscode": {
     "languageId": "sql"
    }
   },
   "outputs": [],
   "source": [
    "For each unit (row, column, box):\n",
    "    For each subset of N cells:\n",
    "        Collect the union of candidates\n",
    "        If the number of candidates equals N:\n",
    "            Eliminate those candidates from other cells in the unit\n",
    "            Record a Naked Subset hint"
   ]
  },
  {
   "cell_type": "markdown",
   "id": "304eab1a",
   "metadata": {},
   "source": [
    "### **3.4 Hidden Subset**"
   ]
  },
  {
   "cell_type": "markdown",
   "id": "27a325ba",
   "metadata": {},
   "source": [
    "**Definition**: If two (or more) candidates are restricted to exactly two (or more) cells, even if those cells have other candidates."
   ]
  },
  {
   "cell_type": "markdown",
   "id": "12539cc4",
   "metadata": {},
   "source": [
    "**Pseudocode**："
   ]
  },
  {
   "cell_type": "code",
   "execution_count": null,
   "id": "06054542",
   "metadata": {
    "vscode": {
     "languageId": "sql"
    }
   },
   "outputs": [],
   "source": [
    "For each unit (row, column, box):\n",
    "    For each combination of N candidates:\n",
    "        Find the cells where these candidates appear\n",
    "        If exactly N cells are involved:\n",
    "            Keep only these candidates in those cells\n",
    "            Record a Hidden Subset hint"
   ]
  },
  {
   "cell_type": "markdown",
   "id": "95432fdc",
   "metadata": {},
   "source": [
    "### **3.5 Pointing**"
   ]
  },
  {
   "cell_type": "markdown",
   "id": "09985a53",
   "metadata": {},
   "source": [
    "**Definition**: If a number in a box appears only along one row or column, that number cannot appear elsewhere along that row or column outside the box."
   ]
  },
  {
   "cell_type": "markdown",
   "id": "54a52670",
   "metadata": {},
   "source": [
    "**Pseudocode**："
   ]
  },
  {
   "cell_type": "code",
   "execution_count": null,
   "id": "ce9e43b2",
   "metadata": {
    "vscode": {
     "languageId": "sql"
    }
   },
   "outputs": [],
   "source": [
    "For each box:\n",
    "    For each candidate number:\n",
    "        Find cells containing the candidate\n",
    "        If all such cells are in the same row:\n",
    "            Eliminate the candidate from other cells in that row outside the box\n",
    "            Record a Pointing hint\n",
    "        If all such cells are in the same column:\n",
    "            Eliminate the candidate from other cells in that column outside the box\n",
    "            Record a Pointing hint"
   ]
  },
  {
   "cell_type": "markdown",
   "id": "1903ed8f",
   "metadata": {},
   "source": [
    "### **3.6 Claiming**"
   ]
  },
  {
   "cell_type": "markdown",
   "id": "8595b8b4",
   "metadata": {},
   "source": [
    "**Definition**: If a number is confined to a single box within a row or column, eliminate that number from other cells in the box."
   ]
  },
  {
   "cell_type": "markdown",
   "id": "6aef9347",
   "metadata": {},
   "source": [
    "**Pseudocode**："
   ]
  },
  {
   "cell_type": "code",
   "execution_count": null,
   "id": "9356a2a8",
   "metadata": {
    "vscode": {
     "languageId": "sql"
    }
   },
   "outputs": [],
   "source": [
    "For each row and each column:\n",
    "    For each candidate number:\n",
    "        Find cells containing the candidate\n",
    "        If all such cells are within the same box:\n",
    "            Eliminate the candidate from other cells in that box\n",
    "            Record a Claiming hint"
   ]
  },
  {
   "cell_type": "markdown",
   "id": "a739fe81",
   "metadata": {},
   "source": [
    "### **3.7 X-Wing**"
   ]
  },
  {
   "cell_type": "markdown",
   "id": "af4d4427",
   "metadata": {},
   "source": [
    "**Definition**: When two rows (or two columns) have identical pairs of candidate positions for a number, an \"X\" pattern forms, allowing eliminations elsewhere."
   ]
  },
  {
   "cell_type": "markdown",
   "id": "fc4154b7",
   "metadata": {},
   "source": [
    "**Pseudocode**："
   ]
  },
  {
   "cell_type": "code",
   "execution_count": null,
   "id": "8ad627b9",
   "metadata": {
    "vscode": {
     "languageId": "sql"
    }
   },
   "outputs": [],
   "source": [
    "For each candidate number:\n",
    "    Find pairs of rows with the candidate appearing in exactly two matching columns\n",
    "    If such pairs exist:\n",
    "        Eliminate the candidate from other rows at those columns\n",
    "        Record an X-Wing hint\n",
    "\n",
    "    Find pairs of columns with the candidate appearing in exactly two matching rows\n",
    "    If such pairs exist:\n",
    "        Eliminate the candidate from other columns at those rows\n",
    "        Record an X-Wing hint"
   ]
  },
  {
   "cell_type": "markdown",
   "id": "d1abf383",
   "metadata": {},
   "source": [
    "### **3.8 Swordfish**"
   ]
  },
  {
   "cell_type": "markdown",
   "id": "d2a9f118",
   "metadata": {},
   "source": [
    "**Definition**:  Generalization of X-Wing using three rows and three columns."
   ]
  },
  {
   "cell_type": "markdown",
   "id": "298d16a4",
   "metadata": {},
   "source": [
    "**Pseudocode**："
   ]
  },
  {
   "cell_type": "code",
   "execution_count": null,
   "id": "d2830844",
   "metadata": {
    "vscode": {
     "languageId": "sql"
    }
   },
   "outputs": [],
   "source": [
    "For each candidate number:\n",
    "    Find triplets of rows where the candidate appears in up to three columns\n",
    "    If the columns match across the rows:\n",
    "        Eliminate the candidate from other rows in those columns\n",
    "        Record a Swordfish hint"
   ]
  },
  {
   "cell_type": "markdown",
   "id": "baa4ca27",
   "metadata": {},
   "source": [
    "### **3.9 XY-Wing**"
   ]
  },
  {
   "cell_type": "markdown",
   "id": "0aac1a1e",
   "metadata": {},
   "source": [
    "**Definition**: A three-cell pattern where two linked bi-value cells imply elimination of a third candidate."
   ]
  },
  {
   "cell_type": "markdown",
   "id": "22e6132d",
   "metadata": {},
   "source": [
    "**Pseudocode**："
   ]
  },
  {
   "cell_type": "code",
   "execution_count": null,
   "id": "dc9c8dcb",
   "metadata": {
    "vscode": {
     "languageId": "sql"
    }
   },
   "outputs": [],
   "source": [
    "For each cell with two candidates (X and Y):\n",
    "    Find a second cell sharing Y and a third cell sharing X\n",
    "    If the third cell links candidates properly (forming XY-Wing):\n",
    "        Eliminate the shared candidate from cells that see both ends\n",
    "        Record an XY-Wing hint"
   ]
  },
  {
   "cell_type": "markdown",
   "id": "6532e604",
   "metadata": {},
   "source": [
    "These logical techniques allow solvers to make intelligent deductions without guessing, and form the basis for assistive solving systems and teaching tools. The runnable python code for each method are already conducted in [logical_hints](logical_hints.py). You are free to check them with your own example.\n",
    "\n",
    "Of course, there are many more logical techniques for solving Sudoku puzzles beyond those introduced here. Advanced strategies such as XYZ-Wing, Unique Rectangles, Finned Fish, and Chains can further enhance the solving power, especially for extremely difficult puzzles.\n",
    "\n",
    "The methods presented in this chapter are those that I have implemented in my project. Considering the scope and scale of a personal project, I believe these techniques provide a good balance between effectiveness and complexity.\n",
    "\n",
    "For readers interested in expanding further, it is entirely possible to implement more sophisticated logical techniques and integrate them into the corresponding files within the project."
   ]
  },
  {
   "cell_type": "markdown",
   "id": "90d4982c",
   "metadata": {},
   "source": [
    "<br>\n",
    "\n",
    "<br>\n"
   ]
  },
  {
   "cell_type": "markdown",
   "id": "d87784b3",
   "metadata": {},
   "source": [
    "## **Final words**"
   ]
  },
  {
   "cell_type": "markdown",
   "id": "0e2e0ced",
   "metadata": {},
   "source": [
    "This tutorial has provided an overview of different approaches to solving Sudoku puzzles, ranging from basic brute-force methods to logical reasoning techniques and optimization models. Throughout the guide, we have emphasized methods that balance effectiveness, human-like logic, and computational feasibility, particularly within the context of personal projects.\n",
    "\n",
    "Sudoku solving is a field where the depth of strategy can grow endlessly. The techniques discussed here offer a solid foundation, but for those interested in deeper challenges, there are always more complex logical patterns and algorithmic enhancements to explore.\n",
    "\n",
    "Ultimately, whether for building smarter solvers, sharpening logical thinking, or simply enjoying the beauty of structured reasoning, I hope this tutorial has served as a helpful and inspiring starting point.\n",
    "\n",
    "Happy solving!"
   ]
  }
 ],
 "metadata": {
  "kernelspec": {
   "display_name": "projects",
   "language": "python",
   "name": "python3"
  },
  "language_info": {
   "codemirror_mode": {
    "name": "ipython",
    "version": 3
   },
   "file_extension": ".py",
   "mimetype": "text/x-python",
   "name": "python",
   "nbconvert_exporter": "python",
   "pygments_lexer": "ipython3",
   "version": "3.8.20"
  }
 },
 "nbformat": 4,
 "nbformat_minor": 5
}
