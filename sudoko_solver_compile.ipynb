{
 "cells": [
  {
   "cell_type": "markdown",
   "metadata": {},
   "source": [
    "# Sudoku solver"
   ]
  },
  {
   "cell_type": "markdown",
   "metadata": {},
   "source": [
    "### 1.Implementation"
   ]
  },
  {
   "cell_type": "code",
   "execution_count": null,
   "metadata": {},
   "outputs": [],
   "source": [
    "import numpy as np\n",
    "##import pandas as pd"
   ]
  },
  {
   "cell_type": "markdown",
   "metadata": {},
   "source": [
    "### Load or create a sudoku puzzle\n",
    "Let's suppose we are given a table with size 9*9, "
   ]
  },
  {
   "cell_type": "code",
   "execution_count": null,
   "metadata": {},
   "outputs": [],
   "source": [
    "# print the result as form of sudoko\n",
    "def print_sudoku(board):\n",
    "    \"\"\"Prints the Sudoku board in a readable format.\"\"\"\n",
    "    for row in board:\n",
    "        print(\" \".join(str(num) if num is not None else \".\" for num in row))"
   ]
  },
  {
   "cell_type": "code",
   "execution_count": null,
   "metadata": {},
   "outputs": [],
   "source": [
    "# Example Sudoku board (easy difficulty)\n",
    "sudoku_easy= [\n",
    "    [5, 3, None, None, 7, None, None, None, None],\n",
    "    [6, None, None, 1, 9, 5, None, None, None],\n",
    "    [None, 9, 8, None, None, None, None, 6, None],\n",
    "    [8, None, None, None, 6, None, None, None, 3],\n",
    "    [4, None, None, 8, None, 3, None, None, 1],\n",
    "    [7, None, None, None, 2, None, None, None, 6],\n",
    "    [None, 6, None, None, None, None, 2, 8, None],\n",
    "    [None, None, None, 4, 1, 9, None, None, 5],\n",
    "    [None, None, None, None, 8, None, None, 7, 9]\n",
    "]\n",
    "\n",
    "print_sudoku(sudoku_easy)"
   ]
  },
  {
   "cell_type": "code",
   "execution_count": null,
   "metadata": {},
   "outputs": [],
   "source": [
    "# Example Sudoku board (medium difficulty)\n",
    "sudoku_medium = [\n",
    "    [None, 2, None, 6, None, 8, None, None, None],\n",
    "    [5, 8, None, None, None, 9, 7, None, None],\n",
    "    [None, None, None, None, 4, None, None, None, None],\n",
    "    [3, 7, None, None, None, None, 5, None, None],\n",
    "    [6, None, None, None, None, None, None, None, 4],\n",
    "    [None, None, 8, None, None, None, None, 1, 3],\n",
    "    [None, None, None, None, 2, None, None, None, None],\n",
    "    [None, None, 9, 8, None, None, None, 3, 6],\n",
    "    [None, None, None, 3, None, 6, None, 9, None],\n",
    "]\n",
    "\n",
    "print_sudoku(sudoku_medium)"
   ]
  },
  {
   "cell_type": "code",
   "execution_count": null,
   "metadata": {},
   "outputs": [],
   "source": [
    "def if_valid(table, row, col, num):\n",
    "    # check if number if valid within the row and column\n",
    "    for i in range(9):\n",
    "      if table[row-1][i]==num or table[i][col-1]==num:\n",
    "         return False\n",
    "    # check if valid in the 3*3 square\n",
    "    start_row, start_col = 3 * ((row-1) // 3), 3 * ((col-1) // 3)\n",
    "    for i in range(3):\n",
    "        for j in range(3):\n",
    "            if table[start_row + i][start_col + j] == num:\n",
    "                return False\n",
    "    return True"
   ]
  },
  {
   "cell_type": "code",
   "execution_count": null,
   "metadata": {},
   "outputs": [],
   "source": [
    "# Find possible digits for each position\n",
    "def get_candidates(table, row, col):\n",
    "    # candidates denotes in position (row,col) the possible candidates that valids\n",
    "    candidates=[]\n",
    "\n",
    "    for num in range(1,10):\n",
    "        if if_valid(table, row, col, num)==True:\n",
    "            candidates.append(num)\n",
    "\n",
    "    return candidates\n"
   ]
  },
  {
   "cell_type": "code",
   "execution_count": null,
   "metadata": {},
   "outputs": [],
   "source": [
    "# Loop of filling in the only candidate, and find out the row and col of which filled in\n",
    "def fill_sole_candidate(table):\n",
    "    changed=True\n",
    "\n",
    "    while changed:\n",
    "        changed=False\n",
    "        for row in range(1,10):\n",
    "            for col in range(1,10):\n",
    "                if table[row-1][col-1]==None:\n",
    "                    candidates=get_candidates(table,row,col)\n",
    "                    # check if candidates only contain one digit\n",
    "                    if len(candidates)==1:\n",
    "                        table[row-1][col-1]=candidates[0]\n",
    "                        changed=True\n",
    "                    \n",
    "\n",
    "    return table"
   ]
  },
  {
   "cell_type": "markdown",
   "metadata": {},
   "source": [
    "#### If the puzzle is an easy one, then with the following methhod it can be solved in pretty short time(less than 0.1s!)"
   ]
  },
  {
   "cell_type": "code",
   "execution_count": null,
   "metadata": {},
   "outputs": [],
   "source": [
    "#table=sudoku_easy\n",
    "table=sudoku_easy\n",
    "fill_sole_candidate(table)\n",
    "print_sudoku(table)"
   ]
  },
  {
   "cell_type": "markdown",
   "metadata": {},
   "source": [
    "#### Although for harder sudoku, it's totally different!"
   ]
  },
  {
   "cell_type": "code",
   "execution_count": null,
   "metadata": {},
   "outputs": [],
   "source": [
    "#table=sudoku_easy\n",
    "table=sudoku_medium\n",
    "fill_sole_candidate(table)\n",
    "print_sudoku(table)"
   ]
  },
  {
   "cell_type": "markdown",
   "metadata": {},
   "source": [
    "#### Since by simply applying the only candidate rules does not work, we need more advanced techniques to solve the harder sudoku. "
   ]
  },
  {
   "cell_type": "markdown",
   "metadata": {},
   "source": [
    "#### First consider the standard backtracking method: by given a not filled sudoku table"
   ]
  },
  {
   "cell_type": "code",
   "execution_count": null,
   "metadata": {},
   "outputs": [],
   "source": [
    "# Compute possible candidates for each empty cell and store them in a dictionary.\n",
    "def get_all_candidates(table):\n",
    "    candidates_dict = {}\n",
    "    for row in range(1,10):\n",
    "        for col in range(1,10):\n",
    "            if table[row-1][col-1] is None:  # Only check empty positions\n",
    "                candidates_dict[(row, col)] = get_candidates(table, row, col)\n",
    "    return candidates_dict"
   ]
  },
  {
   "cell_type": "code",
   "execution_count": null,
   "metadata": {},
   "outputs": [],
   "source": [
    "# Find the empty cell with the least candidates\n",
    "def find_best_empty_cell(candidates_dict):\n",
    "    return min(candidates_dict, key=lambda pos: len(candidates_dict[pos]))"
   ]
  },
  {
   "cell_type": "code",
   "execution_count": null,
   "metadata": {},
   "outputs": [],
   "source": [
    "# Solve the sudoku puzzle using fill sole candidate and guess candidates\n",
    "def solve_sudoku(table):\n",
    "    table = fill_sole_candidate(table)  # Apply Constraint Propagation\n",
    "    candidates_dict = get_all_candidates(table)  # Get updated candidates after pre-filling\n",
    "\n",
    "    if not candidates_dict:\n",
    "        return True  # Sudoku is already solved\n",
    "\n",
    "    # Find the empty cell with the fewest candidates (MRV heuristic)\n",
    "    row, col = find_best_empty_cell(candidates_dict)\n",
    "\n",
    "    for num in sorted(candidates_dict[(row, col)]):  # Try numbers in ascending order\n",
    "        table[row-1][col-1] = num  # Place the number\n",
    "        if solve_sudoku(table):  # Recursive call\n",
    "            return True\n",
    "        table[row-1][col-1] = None  # Backtrack\n",
    "\n",
    "    return False  # No solution found\n"
   ]
  },
  {
   "cell_type": "code",
   "execution_count": null,
   "metadata": {},
   "outputs": [],
   "source": [
    "print(\"Original Sudoku:\")\n",
    "print_sudoku(sudoku_medium)\n",
    "\n",
    "if solve_sudoku(sudoku_medium):\n",
    "    print(\"\\nSolved Sudoku:\")\n",
    "    print_sudoku(sudoku_medium)\n",
    "else:\n",
    "    print(\"No solution exists.\")"
   ]
  },
  {
   "cell_type": "markdown",
   "metadata": {},
   "source": [
    "## 2. Using a ILP(Integer Linear Program) to solve sudoku puzzle"
   ]
  },
  {
   "cell_type": "code",
   "execution_count": null,
   "metadata": {},
   "outputs": [],
   "source": [
    "import pandas as pd\n",
    "from solve_sudoku_ilp import solve_sudoku_ilp"
   ]
  },
  {
   "cell_type": "code",
   "execution_count": null,
   "metadata": {},
   "outputs": [],
   "source": [
    "# Solve Sudoku\n",
    "solved_sudoku = solve_sudoku_ilp(sudoku_medium)\n",
    "\n",
    "# Display the solved Sudoku board\n",
    "if solved_sudoku:\n",
    "    df_solved_sudoku = pd.DataFrame(solved_sudoku)\n",
    "    print(df_solved_sudoku)\n",
    "else:\n",
    "    print(\"No solution found.\")\n"
   ]
  },
  {
   "cell_type": "code",
   "execution_count": null,
   "metadata": {},
   "outputs": [],
   "source": [
    "import sys\n",
    "import os\n",
    "\n",
    "# 添加父目录（即包含 sudoku_solver_app 的路径）到 sys.path\n",
    "sys.path.append(os.path.abspath('./sudoku_solver_app'))\n",
    "\n",
    "from core.generator import generate_puzzle"
   ]
  },
  {
   "cell_type": "code",
   "execution_count": null,
   "metadata": {},
   "outputs": [],
   "source": [
    "puzzle = generate_puzzle(clues=30)\n",
    "for row in puzzle:\n",
    "    print(row)"
   ]
  },
  {
   "cell_type": "code",
   "execution_count": 1,
   "metadata": {},
   "outputs": [
    {
     "name": "stdout",
     "output_type": "stream",
     "text": [
      "[[9, 1, 8, 4, 2, 7, 3, 5, 6], [5, 7, 4, 1, 6, 3, 9, 2, 8], [6, 2, 3, 5, 9, 8, 4, 7, 1], [4, 3, 2, 6, 7, 1, 5, 8, 9], [1, 8, 6, 9, 5, 2, 7, 3, 4], [7, 9, 5, 3, 8, 4, 6, 1, 2], [3, 4, 7, 2, 1, 6, 8, 9, 5], [8, 5, 1, 7, 4, 9, 2, 6, 3], [2, 6, 9, 8, 3, 5, 1, 4, 7]]\n"
     ]
    }
   ],
   "source": [
    "import copy\n",
    "from copy import deepcopy\n",
    "\n",
    "import sys\n",
    "import os\n",
    "\n",
    "# 添加父目录（即包含 sudoku_solver_app 的路径）到 sys.path\n",
    "sys.path.append(os.path.abspath('./sudoku_solver_app'))\n",
    "from core.solver import solve_sudoku\n",
    "puzzle=[\n",
    "        [9, 1, None, None, None, 7, None, None, None],\n",
    "        [None, 7, None, 1, None, 3, None, None, 8],\n",
    "        [6, None, None, None, None, None, 4, None, None],\n",
    "        [None, None, 2, None, None, None, None, 8, None],\n",
    "        [None, None, None, None, 5, None, 7, 3, 4],\n",
    "        [None, None, None, None, None, None, None, 1, None],\n",
    "        [3, 4, 7, 2, None, None, 8, None, None],\n",
    "        [None, None, None, None, None, 9, None, 6, None],\n",
    "        [None, None, None, 8, None, None, None, None, 7],\n",
    "    ]\n",
    "solution = solve_sudoku(deepcopy(puzzle))\n",
    "print(solution)"
   ]
  }
 ],
 "metadata": {
  "kernelspec": {
   "display_name": "projects",
   "language": "python",
   "name": "python3"
  },
  "language_info": {
   "codemirror_mode": {
    "name": "ipython",
    "version": 3
   },
   "file_extension": ".py",
   "mimetype": "text/x-python",
   "name": "python",
   "nbconvert_exporter": "python",
   "pygments_lexer": "ipython3",
   "version": "3.8.20"
  }
 },
 "nbformat": 4,
 "nbformat_minor": 2
}
