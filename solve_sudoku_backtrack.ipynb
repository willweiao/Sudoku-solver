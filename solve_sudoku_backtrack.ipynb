{
 "cells": [
  {
   "cell_type": "code",
   "execution_count": 1,
   "metadata": {},
   "outputs": [],
   "source": [
    "def is_valid(board, row, col, num):\n",
    "    \"\"\"Check if placing 'num' at (row, col) follows Sudoku rules.\"\"\"\n",
    "    # Check row\n",
    "    if num in board[row]:\n",
    "        return False\n",
    "    # Check column\n",
    "    if num in [board[i][col] for i in range(9)]:\n",
    "        return False\n",
    "    # Check 3x3 subgrid\n",
    "    start_row, start_col = 3 * (row // 3), 3 * (col // 3)\n",
    "    for i in range(3):\n",
    "        for j in range(3):\n",
    "            if board[start_row + i][start_col + j] == num:\n",
    "                return False\n",
    "    return True\n",
    "\n",
    "def find_empty_cell(board):\n",
    "    \"\"\"Find the next empty cell (returns (row, col)), or None if the board is full.\"\"\"\n",
    "    for row in range(9):\n",
    "        for col in range(9):\n",
    "            if board[row][col] is None or board[row][col] == 0:\n",
    "                return row, col\n",
    "    return None\n",
    "\n",
    "def solve_sudoku(board):\n",
    "    \"\"\"Solve the Sudoku puzzle using backtracking.\"\"\"\n",
    "    empty_cell = find_empty_cell(board)\n",
    "    if not empty_cell:\n",
    "        return True  # Puzzle solved\n",
    "\n",
    "    row, col = empty_cell\n",
    "    for num in range(1, 10):  # Try numbers 1-9\n",
    "        if is_valid(board, row, col, num):\n",
    "            board[row][col] = num  # Place the number\n",
    "            if solve_sudoku(board):  # Recursive call\n",
    "                return True\n",
    "            board[row][col] = None  # Backtrack\n",
    "\n",
    "    return False  # No solution found\n",
    "\n",
    "def print_sudoku(board):\n",
    "    \"\"\"Prints the Sudoku grid in a readable format.\"\"\"\n",
    "    for row in board:\n",
    "        print(\" \".join(str(num) if num is not None else \".\" for num in row))\n",
    "\n"
   ]
  },
  {
   "cell_type": "code",
   "execution_count": 4,
   "metadata": {},
   "outputs": [
    {
     "name": "stdout",
     "output_type": "stream",
     "text": [
      "Original Sudoku:\n",
      ". . . 8 . . . . .\n",
      ". . . . . . . 1 .\n",
      ". . . . . . . . .\n",
      ". . . . 2 . . . .\n",
      ". . . . . . . . .\n",
      ". . . . . . . . .\n",
      ". . . . . . . . .\n",
      ". 4 . . . . . . .\n",
      ". . . . . . . . .\n",
      "\n",
      "Solved Sudoku:\n",
      "1 2 3 8 4 5 6 7 9\n",
      "4 5 6 2 7 9 3 1 8\n",
      "7 8 9 1 3 6 2 4 5\n",
      "3 1 4 5 2 7 8 9 6\n",
      "2 6 5 4 9 8 1 3 7\n",
      "8 9 7 3 6 1 4 5 2\n",
      "5 3 1 7 8 2 9 6 4\n",
      "6 4 2 9 5 3 7 8 1\n",
      "9 7 8 6 1 4 5 2 3\n"
     ]
    }
   ],
   "source": [
    "# Example Sudoku board (0 or None means an empty cell)\n",
    "sudoku_board = [\n",
    "    [None, None, None, 8, None, None, None, None, None],\n",
    "    [None, None, None, None, None, None, None, 1, None],\n",
    "    [None, None, None, None, None, None, None, None, None],\n",
    "    [None, None, None, None, 2, None, None, None, None],\n",
    "    [None, None, None, None, None, None, None, None, None],\n",
    "    [None, None, None, None, None, None, None, None, None],\n",
    "    [None, None, None, None, None, None, None, None, None],\n",
    "    [None, 4, None, None, None, None, None, None, None],\n",
    "    [None, None, None, None, None, None, None, None, None],\n",
    "]\n",
    "\n",
    "print(\"Original Sudoku:\")\n",
    "print_sudoku(sudoku_board)\n",
    "\n",
    "if solve_sudoku(sudoku_board):\n",
    "    print(\"\\nSolved Sudoku:\")\n",
    "    print_sudoku(sudoku_board)\n",
    "else:\n",
    "    print(\"No solution exists.\")\n"
   ]
  }
 ],
 "metadata": {
  "kernelspec": {
   "display_name": "projects",
   "language": "python",
   "name": "python3"
  },
  "language_info": {
   "codemirror_mode": {
    "name": "ipython",
    "version": 3
   },
   "file_extension": ".py",
   "mimetype": "text/x-python",
   "name": "python",
   "nbconvert_exporter": "python",
   "pygments_lexer": "ipython3",
   "version": "3.8.20"
  }
 },
 "nbformat": 4,
 "nbformat_minor": 2
}
