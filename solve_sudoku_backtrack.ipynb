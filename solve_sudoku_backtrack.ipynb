{
 "cells": [
  {
   "cell_type": "code",
   "execution_count": 1,
   "metadata": {},
   "outputs": [],
   "source": [
    "def is_valid(board, row, col, num):\n",
    "    \"\"\"Check if placing 'num' at (row, col) follows Sudoku rules.\"\"\"\n",
    "    # Check row\n",
    "    if num in board[row]:\n",
    "        return False\n",
    "    # Check column\n",
    "    if num in [board[i][col] for i in range(9)]:\n",
    "        return False\n",
    "    # Check 3x3 subgrid\n",
    "    start_row, start_col = 3 * (row // 3), 3 * (col // 3)\n",
    "    for i in range(3):\n",
    "        for j in range(3):\n",
    "            if board[start_row + i][start_col + j] == num:\n",
    "                return False\n",
    "    return True\n",
    "\n",
    "def find_empty_cell(board):\n",
    "    \"\"\"Find the next empty cell (returns (row, col)), or None if the board is full.\"\"\"\n",
    "    for row in range(9):\n",
    "        for col in range(9):\n",
    "            if board[row][col] is None or board[row][col] == 0:\n",
    "                return row, col\n",
    "    return None\n",
    "\n",
    "def solve_sudoku(board):\n",
    "    \"\"\"Solve the Sudoku puzzle using backtracking.\"\"\"\n",
    "    empty_cell = find_empty_cell(board)\n",
    "    if not empty_cell:\n",
    "        return True  # Puzzle solved\n",
    "\n",
    "    row, col = empty_cell\n",
    "    for num in range(1, 10):  # Try numbers 1-9\n",
    "        if is_valid(board, row, col, num):\n",
    "            board[row][col] = num  # Place the number\n",
    "            if solve_sudoku(board):  # Recursive call\n",
    "                return True\n",
    "            board[row][col] = None  # Backtrack\n",
    "\n",
    "    return False  # No solution found\n",
    "\n",
    "def print_sudoku(board):\n",
    "    \"\"\"Prints the Sudoku grid in a readable format.\"\"\"\n",
    "    for row in board:\n",
    "        print(\" \".join(str(num) if num is not None else \".\" for num in row))\n",
    "\n"
   ]
  },
  {
   "cell_type": "code",
   "execution_count": 2,
   "metadata": {},
   "outputs": [
    {
     "name": "stdout",
     "output_type": "stream",
     "text": [
      "Original Sudoku:\n",
      ". 2 . 6 . 8 . . .\n",
      "5 8 . . . 9 7 . .\n",
      ". . . . 4 . . . .\n",
      "3 7 . . . . 5 . .\n",
      "6 . . . . . . . 4\n",
      ". . 8 . . . . 1 3\n",
      ". . . . 2 . . . .\n",
      ". . 9 8 . . . 3 6\n",
      ". . . 3 . 6 . 9 .\n",
      "\n",
      "Solved Sudoku:\n",
      "1 2 3 6 7 8 9 4 5\n",
      "5 8 4 2 3 9 7 6 1\n",
      "9 6 7 1 4 5 3 2 8\n",
      "3 7 2 4 6 1 5 8 9\n",
      "6 9 1 5 8 3 2 7 4\n",
      "4 5 8 7 9 2 6 1 3\n",
      "8 3 6 9 2 4 1 5 7\n",
      "2 1 9 8 5 7 4 3 6\n",
      "7 4 5 3 1 6 8 9 2\n"
     ]
    }
   ],
   "source": [
    "# Example Sudoku board (0 or None means an empty cell)\n",
    "sudoku_board = [\n",
    "    [None, 2, None, 6, None, 8, None, None, None],\n",
    "    [5, 8, None, None, None, 9, 7, None, None],\n",
    "    [None, None, None, None, 4, None, None, None, None],\n",
    "    [3, 7, None, None, None, None, 5, None, None],\n",
    "    [6, None, None, None, None, None, None, None, 4],\n",
    "    [None, None, 8, None, None, None, None, 1, 3],\n",
    "    [None, None, None, None, 2, None, None, None, None],\n",
    "    [None, None, 9, 8, None, None, None, 3, 6],\n",
    "    [None, None, None, 3, None, 6, None, 9, None],\n",
    "]\n",
    "\n",
    "print(\"Original Sudoku:\")\n",
    "print_sudoku(sudoku_board)\n",
    "\n",
    "if solve_sudoku(sudoku_board):\n",
    "    print(\"\\nSolved Sudoku:\")\n",
    "    print_sudoku(sudoku_board)\n",
    "else:\n",
    "    print(\"No solution exists.\")\n"
   ]
  },
  {
   "cell_type": "code",
   "execution_count": 3,
   "metadata": {},
   "outputs": [
    {
     "name": "stdout",
     "output_type": "stream",
     "text": [
      "Original Sudoku:\n",
      "9 1 . . . 7 . . .\n",
      ". 7 . 1 . 3 . . 8\n",
      "6 . . . . . 4 . .\n",
      ". . 2 . . . . 8 .\n",
      ". . . . 5 . 7 3 4\n",
      ". . . . . . . 1 .\n",
      "3 4 7 2 . . 8 . .\n",
      ". . . . . 9 . 6 .\n",
      ". . . 8 . . . . 7\n",
      "\n",
      "Solved Sudoku:\n",
      "9 1 8 4 2 7 3 5 6\n",
      "5 7 4 1 6 3 9 2 8\n",
      "6 2 3 5 9 8 4 7 1\n",
      "4 3 2 6 7 1 5 8 9\n",
      "1 8 6 9 5 2 7 3 4\n",
      "7 9 5 3 8 4 6 1 2\n",
      "3 4 7 2 1 6 8 9 5\n",
      "8 5 1 7 4 9 2 6 3\n",
      "2 6 9 8 3 5 1 4 7\n"
     ]
    }
   ],
   "source": [
    "sudoku_from_image = [\n",
    "    [9, 1, None, None, None, 7, None, None, None],\n",
    "    [None, 7, None, 1, None, 3, None, None, 8],\n",
    "    [6, None, None, None, None, None, 4, None, None],\n",
    "    [None, None, 2, None, None, None, None, 8, None],\n",
    "    [None, None, None, None, 5, None, 7, 3, 4],\n",
    "    [None, None, None, None, None, None, None, 1, None],\n",
    "    [3, 4, 7, 2, None, None, 8, None, None],\n",
    "    [None, None, None, None, None, 9, None, 6, None],\n",
    "    [None, None, None, 8, None, None, None, None, 7],\n",
    "]\n",
    "\n",
    "print(\"Original Sudoku:\")\n",
    "print_sudoku(sudoku_from_image)\n",
    "\n",
    "if solve_sudoku(sudoku_from_image):\n",
    "    print(\"\\nSolved Sudoku:\")\n",
    "    print_sudoku(sudoku_from_image)\n",
    "else:\n",
    "    print(\"No solution exists.\")\n"
   ]
  },
  {
   "cell_type": "code",
   "execution_count": 4,
   "metadata": {},
   "outputs": [],
   "source": [
    "def solution_is_valid(board):\n",
    "    \"\"\"Check if the Sudoku board is valid, and print the position of conflicts if any.\"\"\"\n",
    "    for row in range(9):\n",
    "        for col in range(9):\n",
    "            num = board[row][col]\n",
    "            if num is not None:\n",
    "                board[row][col] = None  # Temporarily remove to validate current position\n",
    "                if not is_valid(board, row, col, num):\n",
    "                    print(f\"Conflict at ({row + 1}, {col + 1}) with number {num}\")\n",
    "                    board[row][col] = num  # Restore before returning\n",
    "                    return False\n",
    "                board[row][col] = num  # Restore value after checking\n",
    "    return True"
   ]
  },
  {
   "cell_type": "code",
   "execution_count": 6,
   "metadata": {},
   "outputs": [
    {
     "name": "stdout",
     "output_type": "stream",
     "text": [
      "True\n",
      "True\n"
     ]
    }
   ],
   "source": [
    "print(solution_is_valid(sudoku_board))\n",
    "print(solution_is_valid(sudoku_from_image))"
   ]
  }
 ],
 "metadata": {
  "kernelspec": {
   "display_name": "projects",
   "language": "python",
   "name": "python3"
  },
  "language_info": {
   "codemirror_mode": {
    "name": "ipython",
    "version": 3
   },
   "file_extension": ".py",
   "mimetype": "text/x-python",
   "name": "python",
   "nbconvert_exporter": "python",
   "pygments_lexer": "ipython3",
   "version": "3.8.20"
  }
 },
 "nbformat": 4,
 "nbformat_minor": 2
}
